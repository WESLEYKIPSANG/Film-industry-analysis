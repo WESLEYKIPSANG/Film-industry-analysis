{
 "cells": [
  {
   "cell_type": "code",
   "execution_count": null,
   "id": "bf25a52d-f37e-459e-a80a-b2ddf2b932d2",
   "metadata": {},
   "outputs": [],
   "source": [
    "# *DATA ANALYSIS FOR FILM INDUSTRY ENTRY*"
   ]
  },
  {
   "cell_type": "markdown",
   "id": "74aabe7e-6223-4c25-b50d-2cbf2415453b",
   "metadata": {},
   "source": [
    "### Objective"
   ]
  },
  {
   "cell_type": "markdown",
   "id": "e4a3cdb4-368d-4715-ab09-fce6a694daac",
   "metadata": {},
   "source": [
    "1.Analyze Return on Investment (ROI) across Films"
   ]
  },
  {
   "cell_type": "markdown",
   "id": "b0998b1b-6386-4eaf-8012-604d214f78db",
   "metadata": {},
   "source": [
    "2.Compare studio performance "
   ]
  },
  {
   "cell_type": "markdown",
   "id": "c7afcc93-5976-4bf8-9e8c-abab95970d92",
   "metadata": {},
   "source": [
    "3.Determine high-performing genres"
   ]
  },
  {
   "cell_type": "code",
   "execution_count": 2,
   "id": "1f6219ca-278c-4278-9645-e3f0158fdd3a",
   "metadata": {},
   "outputs": [],
   "source": [
    "### *1. DATA EXPLORATION*"
   ]
  },
  {
   "cell_type": "markdown",
   "id": "b8d0ffbb-bc51-4ac9-97db-0d518a29f343",
   "metadata": {},
   "source": [
    "In order to make Before conducting any detailed analysis, it is important to understand the structure, content, and quality of our datasets. This section focuses on exploring both the The \n",
    "Number, Box office mojo and The Movie datasets to gain initial insights into the available variables, identify missing or inconsistent data, and assess how the two datasets can be merged effectively."
   ]
  },
  {
   "cell_type": "code",
   "execution_count": 62,
   "id": "b8476032-e03c-4ab6-8cdb-c69ba24e01e3",
   "metadata": {},
   "outputs": [],
   "source": [
    "#importing libraries\n",
    "import pandas as pd\n",
    "import numpy as np\n",
    "import matplotlib.pyplot as plt\n",
    "import sqlite3\n",
    "import seaborn as sns\n"
   ]
  },
  {
   "cell_type": "markdown",
   "id": "dff387b7-a7cd-4945-a5a9-6347b8c5269a",
   "metadata": {},
   "source": [
    "Loading of Data"
   ]
  },
  {
   "cell_type": "code",
   "execution_count": 31,
   "id": "f40bd2bf-bdd1-4106-9822-418f89e67579",
   "metadata": {},
   "outputs": [
    {
     "data": {
      "text/html": [
       "<div>\n",
       "<style scoped>\n",
       "    .dataframe tbody tr th:only-of-type {\n",
       "        vertical-align: middle;\n",
       "    }\n",
       "\n",
       "    .dataframe tbody tr th {\n",
       "        vertical-align: top;\n",
       "    }\n",
       "\n",
       "    .dataframe thead th {\n",
       "        text-align: right;\n",
       "    }\n",
       "</style>\n",
       "<table border=\"1\" class=\"dataframe\">\n",
       "  <thead>\n",
       "    <tr style=\"text-align: right;\">\n",
       "      <th></th>\n",
       "      <th>id</th>\n",
       "      <th>release_date</th>\n",
       "      <th>movie</th>\n",
       "      <th>production_budget</th>\n",
       "      <th>domestic_gross</th>\n",
       "      <th>worldwide_gross</th>\n",
       "    </tr>\n",
       "  </thead>\n",
       "  <tbody>\n",
       "    <tr>\n",
       "      <th>0</th>\n",
       "      <td>1</td>\n",
       "      <td>Dec 18, 2009</td>\n",
       "      <td>Avatar</td>\n",
       "      <td>$425,000,000</td>\n",
       "      <td>$760,507,625</td>\n",
       "      <td>$2,776,345,279</td>\n",
       "    </tr>\n",
       "    <tr>\n",
       "      <th>1</th>\n",
       "      <td>2</td>\n",
       "      <td>May 20, 2011</td>\n",
       "      <td>Pirates of the Caribbean: On Stranger Tides</td>\n",
       "      <td>$410,600,000</td>\n",
       "      <td>$241,063,875</td>\n",
       "      <td>$1,045,663,875</td>\n",
       "    </tr>\n",
       "    <tr>\n",
       "      <th>2</th>\n",
       "      <td>3</td>\n",
       "      <td>Jun 7, 2019</td>\n",
       "      <td>Dark Phoenix</td>\n",
       "      <td>$350,000,000</td>\n",
       "      <td>$42,762,350</td>\n",
       "      <td>$149,762,350</td>\n",
       "    </tr>\n",
       "    <tr>\n",
       "      <th>3</th>\n",
       "      <td>4</td>\n",
       "      <td>May 1, 2015</td>\n",
       "      <td>Avengers: Age of Ultron</td>\n",
       "      <td>$330,600,000</td>\n",
       "      <td>$459,005,868</td>\n",
       "      <td>$1,403,013,963</td>\n",
       "    </tr>\n",
       "    <tr>\n",
       "      <th>4</th>\n",
       "      <td>5</td>\n",
       "      <td>Dec 15, 2017</td>\n",
       "      <td>Star Wars Ep. VIII: The Last Jedi</td>\n",
       "      <td>$317,000,000</td>\n",
       "      <td>$620,181,382</td>\n",
       "      <td>$1,316,721,747</td>\n",
       "    </tr>\n",
       "  </tbody>\n",
       "</table>\n",
       "</div>"
      ],
      "text/plain": [
       "   id  release_date                                        movie  \\\n",
       "0   1  Dec 18, 2009                                       Avatar   \n",
       "1   2  May 20, 2011  Pirates of the Caribbean: On Stranger Tides   \n",
       "2   3   Jun 7, 2019                                 Dark Phoenix   \n",
       "3   4   May 1, 2015                      Avengers: Age of Ultron   \n",
       "4   5  Dec 15, 2017            Star Wars Ep. VIII: The Last Jedi   \n",
       "\n",
       "  production_budget domestic_gross worldwide_gross  \n",
       "0      $425,000,000   $760,507,625  $2,776,345,279  \n",
       "1      $410,600,000   $241,063,875  $1,045,663,875  \n",
       "2      $350,000,000    $42,762,350    $149,762,350  \n",
       "3      $330,600,000   $459,005,868  $1,403,013,963  \n",
       "4      $317,000,000   $620,181,382  $1,316,721,747  "
      ]
     },
     "execution_count": 31,
     "metadata": {},
     "output_type": "execute_result"
    }
   ],
   "source": [
    "#loading The Number data\n",
    "df_tn = pd.read_csv('tn.movie_budgets.csv')\n",
    "#checking the first 5 rows\n",
    "df_tn.head()"
   ]
  },
  {
   "cell_type": "code",
   "execution_count": 32,
   "id": "abbe0c88-28f3-48ec-941a-b36451ddde74",
   "metadata": {},
   "outputs": [
    {
     "name": "stdout",
     "output_type": "stream",
     "text": [
      "<class 'pandas.core.frame.DataFrame'>\n",
      "RangeIndex: 5782 entries, 0 to 5781\n",
      "Data columns (total 6 columns):\n",
      " #   Column             Non-Null Count  Dtype \n",
      "---  ------             --------------  ----- \n",
      " 0   id                 5782 non-null   int64 \n",
      " 1   release_date       5782 non-null   object\n",
      " 2   movie              5782 non-null   object\n",
      " 3   production_budget  5782 non-null   object\n",
      " 4   domestic_gross     5782 non-null   object\n",
      " 5   worldwide_gross    5782 non-null   object\n",
      "dtypes: int64(1), object(5)\n",
      "memory usage: 271.2+ KB\n"
     ]
    }
   ],
   "source": [
    "# checking for sturucture of datasets\n",
    "df_tn.info()"
   ]
  },
  {
   "cell_type": "code",
   "execution_count": 33,
   "id": "56f216ce-a3d1-481b-a1d7-84cdf1f9586a",
   "metadata": {},
   "outputs": [
    {
     "data": {
      "text/html": [
       "<div>\n",
       "<style scoped>\n",
       "    .dataframe tbody tr th:only-of-type {\n",
       "        vertical-align: middle;\n",
       "    }\n",
       "\n",
       "    .dataframe tbody tr th {\n",
       "        vertical-align: top;\n",
       "    }\n",
       "\n",
       "    .dataframe thead th {\n",
       "        text-align: right;\n",
       "    }\n",
       "</style>\n",
       "<table border=\"1\" class=\"dataframe\">\n",
       "  <thead>\n",
       "    <tr style=\"text-align: right;\">\n",
       "      <th></th>\n",
       "      <th>title</th>\n",
       "      <th>studio</th>\n",
       "      <th>domestic_gross</th>\n",
       "      <th>foreign_gross</th>\n",
       "      <th>year</th>\n",
       "    </tr>\n",
       "  </thead>\n",
       "  <tbody>\n",
       "    <tr>\n",
       "      <th>0</th>\n",
       "      <td>Toy Story 3</td>\n",
       "      <td>BV</td>\n",
       "      <td>415000000.0</td>\n",
       "      <td>652000000</td>\n",
       "      <td>2010</td>\n",
       "    </tr>\n",
       "    <tr>\n",
       "      <th>1</th>\n",
       "      <td>Alice in Wonderland (2010)</td>\n",
       "      <td>BV</td>\n",
       "      <td>334200000.0</td>\n",
       "      <td>691300000</td>\n",
       "      <td>2010</td>\n",
       "    </tr>\n",
       "    <tr>\n",
       "      <th>2</th>\n",
       "      <td>Harry Potter and the Deathly Hallows Part 1</td>\n",
       "      <td>WB</td>\n",
       "      <td>296000000.0</td>\n",
       "      <td>664300000</td>\n",
       "      <td>2010</td>\n",
       "    </tr>\n",
       "    <tr>\n",
       "      <th>3</th>\n",
       "      <td>Inception</td>\n",
       "      <td>WB</td>\n",
       "      <td>292600000.0</td>\n",
       "      <td>535700000</td>\n",
       "      <td>2010</td>\n",
       "    </tr>\n",
       "    <tr>\n",
       "      <th>4</th>\n",
       "      <td>Shrek Forever After</td>\n",
       "      <td>P/DW</td>\n",
       "      <td>238700000.0</td>\n",
       "      <td>513900000</td>\n",
       "      <td>2010</td>\n",
       "    </tr>\n",
       "  </tbody>\n",
       "</table>\n",
       "</div>"
      ],
      "text/plain": [
       "                                         title studio  domestic_gross  \\\n",
       "0                                  Toy Story 3     BV     415000000.0   \n",
       "1                   Alice in Wonderland (2010)     BV     334200000.0   \n",
       "2  Harry Potter and the Deathly Hallows Part 1     WB     296000000.0   \n",
       "3                                    Inception     WB     292600000.0   \n",
       "4                          Shrek Forever After   P/DW     238700000.0   \n",
       "\n",
       "  foreign_gross  year  \n",
       "0     652000000  2010  \n",
       "1     691300000  2010  \n",
       "2     664300000  2010  \n",
       "3     535700000  2010  \n",
       "4     513900000  2010  "
      ]
     },
     "execution_count": 33,
     "metadata": {},
     "output_type": "execute_result"
    }
   ],
   "source": [
    "#loading of Box office mojo data\n",
    "df_box = pd.read_csv(\"bom.movie_gross.csv\")\n",
    "# first five rows\n",
    "df_box.head()\n"
   ]
  },
  {
   "cell_type": "code",
   "execution_count": 34,
   "id": "17f2f720-541a-4f1b-a9bc-2efaaea345ce",
   "metadata": {},
   "outputs": [
    {
     "name": "stdout",
     "output_type": "stream",
     "text": [
      "<class 'pandas.core.frame.DataFrame'>\n",
      "RangeIndex: 3387 entries, 0 to 3386\n",
      "Data columns (total 5 columns):\n",
      " #   Column          Non-Null Count  Dtype  \n",
      "---  ------          --------------  -----  \n",
      " 0   title           3387 non-null   object \n",
      " 1   studio          3382 non-null   object \n",
      " 2   domestic_gross  3359 non-null   float64\n",
      " 3   foreign_gross   2037 non-null   object \n",
      " 4   year            3387 non-null   int64  \n",
      "dtypes: float64(1), int64(1), object(3)\n",
      "memory usage: 132.4+ KB\n"
     ]
    }
   ],
   "source": [
    "# checking for sturucture of datasets\n",
    "df_box.info()"
   ]
  },
  {
   "cell_type": "code",
   "execution_count": 35,
   "id": "938b9845-fcbc-401c-aac1-faf72d8b5759",
   "metadata": {},
   "outputs": [
    {
     "data": {
      "text/html": [
       "<div>\n",
       "<style scoped>\n",
       "    .dataframe tbody tr th:only-of-type {\n",
       "        vertical-align: middle;\n",
       "    }\n",
       "\n",
       "    .dataframe tbody tr th {\n",
       "        vertical-align: top;\n",
       "    }\n",
       "\n",
       "    .dataframe thead th {\n",
       "        text-align: right;\n",
       "    }\n",
       "</style>\n",
       "<table border=\"1\" class=\"dataframe\">\n",
       "  <thead>\n",
       "    <tr style=\"text-align: right;\">\n",
       "      <th></th>\n",
       "      <th>Unnamed: 0</th>\n",
       "      <th>genre_ids</th>\n",
       "      <th>id</th>\n",
       "      <th>original_language</th>\n",
       "      <th>original_title</th>\n",
       "      <th>popularity</th>\n",
       "      <th>release_date</th>\n",
       "      <th>title</th>\n",
       "      <th>vote_average</th>\n",
       "      <th>vote_count</th>\n",
       "    </tr>\n",
       "  </thead>\n",
       "  <tbody>\n",
       "    <tr>\n",
       "      <th>0</th>\n",
       "      <td>0</td>\n",
       "      <td>[12, 14, 10751]</td>\n",
       "      <td>12444</td>\n",
       "      <td>en</td>\n",
       "      <td>Harry Potter and the Deathly Hallows: Part 1</td>\n",
       "      <td>33.533</td>\n",
       "      <td>2010-11-19</td>\n",
       "      <td>Harry Potter and the Deathly Hallows: Part 1</td>\n",
       "      <td>7.7</td>\n",
       "      <td>10788</td>\n",
       "    </tr>\n",
       "    <tr>\n",
       "      <th>1</th>\n",
       "      <td>1</td>\n",
       "      <td>[14, 12, 16, 10751]</td>\n",
       "      <td>10191</td>\n",
       "      <td>en</td>\n",
       "      <td>How to Train Your Dragon</td>\n",
       "      <td>28.734</td>\n",
       "      <td>2010-03-26</td>\n",
       "      <td>How to Train Your Dragon</td>\n",
       "      <td>7.7</td>\n",
       "      <td>7610</td>\n",
       "    </tr>\n",
       "    <tr>\n",
       "      <th>2</th>\n",
       "      <td>2</td>\n",
       "      <td>[12, 28, 878]</td>\n",
       "      <td>10138</td>\n",
       "      <td>en</td>\n",
       "      <td>Iron Man 2</td>\n",
       "      <td>28.515</td>\n",
       "      <td>2010-05-07</td>\n",
       "      <td>Iron Man 2</td>\n",
       "      <td>6.8</td>\n",
       "      <td>12368</td>\n",
       "    </tr>\n",
       "    <tr>\n",
       "      <th>3</th>\n",
       "      <td>3</td>\n",
       "      <td>[16, 35, 10751]</td>\n",
       "      <td>862</td>\n",
       "      <td>en</td>\n",
       "      <td>Toy Story</td>\n",
       "      <td>28.005</td>\n",
       "      <td>1995-11-22</td>\n",
       "      <td>Toy Story</td>\n",
       "      <td>7.9</td>\n",
       "      <td>10174</td>\n",
       "    </tr>\n",
       "    <tr>\n",
       "      <th>4</th>\n",
       "      <td>4</td>\n",
       "      <td>[28, 878, 12]</td>\n",
       "      <td>27205</td>\n",
       "      <td>en</td>\n",
       "      <td>Inception</td>\n",
       "      <td>27.920</td>\n",
       "      <td>2010-07-16</td>\n",
       "      <td>Inception</td>\n",
       "      <td>8.3</td>\n",
       "      <td>22186</td>\n",
       "    </tr>\n",
       "  </tbody>\n",
       "</table>\n",
       "</div>"
      ],
      "text/plain": [
       "   Unnamed: 0            genre_ids     id original_language  \\\n",
       "0           0      [12, 14, 10751]  12444                en   \n",
       "1           1  [14, 12, 16, 10751]  10191                en   \n",
       "2           2        [12, 28, 878]  10138                en   \n",
       "3           3      [16, 35, 10751]    862                en   \n",
       "4           4        [28, 878, 12]  27205                en   \n",
       "\n",
       "                                 original_title  popularity release_date  \\\n",
       "0  Harry Potter and the Deathly Hallows: Part 1      33.533   2010-11-19   \n",
       "1                      How to Train Your Dragon      28.734   2010-03-26   \n",
       "2                                    Iron Man 2      28.515   2010-05-07   \n",
       "3                                     Toy Story      28.005   1995-11-22   \n",
       "4                                     Inception      27.920   2010-07-16   \n",
       "\n",
       "                                          title  vote_average  vote_count  \n",
       "0  Harry Potter and the Deathly Hallows: Part 1           7.7       10788  \n",
       "1                      How to Train Your Dragon           7.7        7610  \n",
       "2                                    Iron Man 2           6.8       12368  \n",
       "3                                     Toy Story           7.9       10174  \n",
       "4                                     Inception           8.3       22186  "
      ]
     },
     "execution_count": 35,
     "metadata": {},
     "output_type": "execute_result"
    }
   ],
   "source": [
    "#loading ThemovieDB\n",
    "df_tmdb=pd.read_csv('tmdb.movies.csv')\n",
    "df_tmdb.head()"
   ]
  },
  {
   "cell_type": "code",
   "execution_count": 36,
   "id": "a2335b8b-486f-49c5-b99c-4038bcc85cee",
   "metadata": {},
   "outputs": [
    {
     "name": "stdout",
     "output_type": "stream",
     "text": [
      "<class 'pandas.core.frame.DataFrame'>\n",
      "RangeIndex: 26517 entries, 0 to 26516\n",
      "Data columns (total 10 columns):\n",
      " #   Column             Non-Null Count  Dtype  \n",
      "---  ------             --------------  -----  \n",
      " 0   Unnamed: 0         26517 non-null  int64  \n",
      " 1   genre_ids          26517 non-null  object \n",
      " 2   id                 26517 non-null  int64  \n",
      " 3   original_language  26517 non-null  object \n",
      " 4   original_title     26517 non-null  object \n",
      " 5   popularity         26517 non-null  float64\n",
      " 6   release_date       26517 non-null  object \n",
      " 7   title              26517 non-null  object \n",
      " 8   vote_average       26517 non-null  float64\n",
      " 9   vote_count         26517 non-null  int64  \n",
      "dtypes: float64(2), int64(3), object(5)\n",
      "memory usage: 2.0+ MB\n"
     ]
    }
   ],
   "source": [
    "# checking for sturucture of datasets\n",
    "df_tmdb.info()"
   ]
  },
  {
   "cell_type": "markdown",
   "id": "c2372cd9-6a18-4f52-a8be-45efe61123a8",
   "metadata": {},
   "source": [
    "2.***Data Preparation and Cleaning***\n"
   ]
  },
  {
   "cell_type": "markdown",
   "id": "952115e2-6302-4998-b884-4497e5d9db56",
   "metadata": {},
   "source": [
    "(a) Cleaning the The movie database"
   ]
  },
  {
   "cell_type": "code",
   "execution_count": 39,
   "id": "b2091913-e273-459d-a979-9d016aed8ef2",
   "metadata": {},
   "outputs": [
    {
     "name": "stdout",
     "output_type": "stream",
     "text": [
      "                                 original_title  release_year  \\\n",
      "0  Harry Potter and the Deathly Hallows: Part 1          2010   \n",
      "1                      How to Train Your Dragon          2010   \n",
      "2                                    Iron Man 2          2010   \n",
      "3                                     Toy Story          1995   \n",
      "4                                     Inception          2010   \n",
      "\n",
      "                                  genres  \n",
      "0             Adventure, Fantasy, Family  \n",
      "1  Fantasy, Adventure, Animation, Family  \n",
      "2     Adventure, Action, Science Fiction  \n",
      "3              Animation, Comedy, Family  \n",
      "4     Action, Science Fiction, Adventure  \n",
      "Shape: (26517, 9)\n",
      "<class 'pandas.core.frame.DataFrame'>\n",
      "RangeIndex: 26517 entries, 0 to 26516\n",
      "Data columns (total 9 columns):\n",
      " #   Column          Non-Null Count  Dtype  \n",
      "---  ------          --------------  -----  \n",
      " 0   id              26517 non-null  int64  \n",
      " 1   original_title  26517 non-null  object \n",
      " 2   release_date    26517 non-null  object \n",
      " 3   genre_ids       26517 non-null  object \n",
      " 4   popularity      26517 non-null  float64\n",
      " 5   vote_average    26517 non-null  float64\n",
      " 6   vote_count      26517 non-null  int64  \n",
      " 7   release_year    26517 non-null  int32  \n",
      " 8   genres          26517 non-null  object \n",
      "dtypes: float64(2), int32(1), int64(2), object(4)\n",
      "memory usage: 1.7+ MB\n"
     ]
    }
   ],
   "source": [
    "import ast  \n",
    "\n",
    "# Genre ID to name mapping\n",
    "genre_map = {\n",
    "    28: 'Action',\n",
    "    12: 'Adventure',\n",
    "    16: 'Animation',\n",
    "    35: 'Comedy',\n",
    "    80: 'Crime',\n",
    "    99: 'Documentary',\n",
    "    18: 'Drama',\n",
    "    10751: 'Family',\n",
    "    14: 'Fantasy',\n",
    "    36: 'History',\n",
    "    27: 'Horror',\n",
    "    10402: 'Music',\n",
    "    9648: 'Mystery',\n",
    "    10749: 'Romance',\n",
    "    878: 'Science Fiction',\n",
    "    10770: 'TV Movie',\n",
    "    53: 'Thriller',\n",
    "    10752: 'War',\n",
    "    37: 'Western'\n",
    "}\n",
    "\n",
    "# List of column relevant \n",
    "keep_cols = [\n",
    "    'id',              \n",
    "    'original_title',  \n",
    "    'release_date',\n",
    "    'genre_ids',\n",
    "    'popularity',\n",
    "    'vote_average',\n",
    "    'vote_count'\n",
    "]\n",
    "\n",
    "# Add release_year column \n",
    "if 'release_year' not in df_tmdb.columns:\n",
    "    df_tmdb['release_year'] = pd.to_datetime(df_tmdb['release_date'], errors='coerce').dt.year\n",
    "\n",
    "# Add it to the list if needed\n",
    "if 'release_year' not in keep_cols:\n",
    "    keep_cols.append('release_year')\n",
    "\n",
    "# Subset and copy data\n",
    "df_tmdb_clean = df_tmdb[keep_cols].copy()\n",
    "\n",
    "# Filter: remove entries with zero or missing ID/popularity or release year\n",
    "df_tmdb_clean = df_tmdb_clean[\n",
    "    (df_tmdb_clean['id'] > 0) &\n",
    "    (df_tmdb_clean['popularity'] > 0)\n",
    "].dropna(subset=['release_year'])\n",
    "\n",
    "# Convert genre_ids from string to list of integers\n",
    "df_tmdb_clean['genre_ids'] = df_tmdb_clean['genre_ids'].apply(\n",
    "    lambda x: ast.literal_eval(x) if isinstance(x, str) else []\n",
    ")\n",
    "\n",
    "# Map genre IDs to names\n",
    "df_tmdb_clean['genres'] = df_tmdb_clean['genre_ids'].apply(\n",
    "    lambda ids: [genre_map.get(i, 'Unknown') for i in ids]\n",
    ")\n",
    "\n",
    "# Optional: create a single string version\n",
    "df_tmdb_clean['genres'] = df_tmdb_clean['genres'].apply(lambda x: ', '.join(x))\n",
    "\n",
    "# Reset index\n",
    "df_tmdb_clean = df_tmdb_clean.reset_index(drop=True)\n",
    "\n",
    "# Preview\n",
    "print(df_tmdb_clean[['original_title', 'release_year', 'genres']].head())\n",
    "print(\"Shape:\", df_tmdb_clean.shape)\n",
    "df_tmdb_clean.info()\n"
   ]
  },
  {
   "cell_type": "code",
   "execution_count": null,
   "id": "fcc3f9d9-fbe5-4b52-9c52-f47288574489",
   "metadata": {},
   "outputs": [],
   "source": [
    "(b). Cleaning The Numbers datasets"
   ]
  },
  {
   "cell_type": "code",
   "execution_count": 40,
   "id": "9fe3a51f-8942-44c7-a1f9-6a65e7070182",
   "metadata": {
    "scrolled": true
   },
   "outputs": [
    {
     "name": "stdout",
     "output_type": "stream",
     "text": [
      "  release_date                                        movie  \\\n",
      "0   2009-12-18                                       Avatar   \n",
      "1   2011-05-20  Pirates of the Caribbean: On Stranger Tides   \n",
      "2   2019-06-07                                 Dark Phoenix   \n",
      "3   2015-05-01                      Avengers: Age of Ultron   \n",
      "4   2017-12-15            Star Wars Ep. VIII: The Last Jedi   \n",
      "\n",
      "   production_budget  domestic_gross  worldwide_gross  release_year  \n",
      "0        425000000.0     760507625.0     2.776345e+09          2009  \n",
      "1        410600000.0     241063875.0     1.045664e+09          2011  \n",
      "2        350000000.0      42762350.0     1.497624e+08          2019  \n",
      "3        330600000.0     459005868.0     1.403014e+09          2015  \n",
      "4        317000000.0     620181382.0     1.316722e+09          2017  \n",
      "Clean shape: (5782, 6)\n",
      "<class 'pandas.core.frame.DataFrame'>\n",
      "RangeIndex: 5782 entries, 0 to 5781\n",
      "Data columns (total 6 columns):\n",
      " #   Column             Non-Null Count  Dtype         \n",
      "---  ------             --------------  -----         \n",
      " 0   release_date       5782 non-null   datetime64[ns]\n",
      " 1   movie              5782 non-null   object        \n",
      " 2   production_budget  5782 non-null   float64       \n",
      " 3   domestic_gross     5782 non-null   float64       \n",
      " 4   worldwide_gross    5782 non-null   float64       \n",
      " 5   release_year       5782 non-null   int32         \n",
      "dtypes: datetime64[ns](1), float64(3), int32(1), object(1)\n",
      "memory usage: 248.6+ KB\n"
     ]
    }
   ],
   "source": [
    "\n",
    "\n",
    "# Select key columns\n",
    "keep_cols = [\n",
    "    'release_date',\n",
    "    'movie',\n",
    "    'production_budget',\n",
    "    'domestic_gross',\n",
    "    'worldwide_gross'\n",
    "]\n",
    "\n",
    "df_tn = df_tn[keep_cols].copy()\n",
    "\n",
    "# Clean monetary columns: remove currency symbols and convert to numeric\n",
    "for col in ['production_budget', 'domestic_gross', 'worldwide_gross']:\n",
    "    df_tn[col] = (\n",
    "        df_tn[col].astype(str)\n",
    "        .str.replace(r'[\\$,]', '', regex=True)\n",
    "        .replace('nan', '0') \n",
    "        .astype(float)\n",
    "    )\n",
    "\n",
    "# Optionally: parse release_date into datetime and derive yearmtn\n",
    "df_tn['release_date'] = pd.to_datetime(df_tn['release_date'], errors='coerce')\n",
    "df_tn['release_year'] = df_tn['release_date'].dt.year\n",
    "\n",
    "# Drop rows with invalid or missing numeric data if needed\n",
    "df_tn_clean = df_tn.dropna(subset=['production_budget', 'worldwide_gross', 'release_date'])\n",
    "\n",
    "print(df_tn_clean.head())\n",
    "print(\"Clean shape:\", df_tn_clean.shape)\n",
    "df_tn_clean.info()\n"
   ]
  },
  {
   "cell_type": "markdown",
   "id": "e40dd0a4-872a-49d6-ad0f-d27b29aaeeff",
   "metadata": {},
   "source": [
    "(c). Cleaning  The Box office mojo data "
   ]
  },
  {
   "cell_type": "code",
   "execution_count": 26,
   "id": "de3341d2-4c79-41b3-a2f2-fc4a142c662e",
   "metadata": {},
   "outputs": [
    {
     "name": "stdout",
     "output_type": "stream",
     "text": [
      "                                         title studio  domestic_gross  \\\n",
      "0                                  Toy Story 3     BV     415000000.0   \n",
      "1                   Alice in Wonderland (2010)     BV     334200000.0   \n",
      "2  Harry Potter and the Deathly Hallows Part 1     WB     296000000.0   \n",
      "3                                    Inception     WB     292600000.0   \n",
      "4                          Shrek Forever After   P/DW     238700000.0   \n",
      "\n",
      "   foreign_gross  year  worldwide_gross  \n",
      "0    652000000.0  2010     1.067000e+09  \n",
      "1    691300000.0  2010     1.025500e+09  \n",
      "2    664300000.0  2010     9.603000e+08  \n",
      "3    535700000.0  2010     8.283000e+08  \n",
      "4    513900000.0  2010     7.526000e+08  \n",
      "Shape: (3387, 6)\n"
     ]
    }
   ],
   "source": [
    "#  columns to keep\n",
    "keep_cols = [\n",
    "    'title',\n",
    "    'studio',\n",
    "    'domestic_gross',\n",
    "    'foreign_gross',\n",
    "    'year'\n",
    "    ]\n",
    "\n",
    "# Select and copy\n",
    "df_box = df_box[keep_cols].copy()\n",
    "\n",
    "# Clean monetary columns: strip '$' and commas, convert to float\n",
    "for col in ['domestic_gross', 'foreign_gross']:\n",
    "    df_box[col] = (\n",
    "        df_box[col]\n",
    "        .astype(str)\n",
    "        .str.replace(r'[\\$,]', '', regex=True)\n",
    "        .replace('nan', '0')  # replace string 'nan' with 0\n",
    "        .astype(float) \n",
    "        \n",
    "    )\n",
    "# Filter out rows with zero worldwide gross create worlwide_gross by adding domestic and foreign  gross\n",
    "df_box['worldwide_gross']=df_box['domestic_gross']+df_box['foreign_gross']\n",
    "df_box_clean = df_box[(df_box['worldwide_gross'] > 0) &\n",
    "    (df_box['year'].notna())\n",
    "].copy()\n",
    "\n",
    "# Reset index\n",
    "df_box_clean = df_box_clean.reset_index(drop=True)\n",
    "\n",
    "print(df_box_clean.head())\n",
    "print(\"Shape:\", df_box_clean.shape)\n"
   ]
  },
  {
   "cell_type": "markdown",
   "id": "2505455e-16db-48f4-b522-1cc6ed4e45ae",
   "metadata": {},
   "source": [
    "## *Merging datasets*"
   ]
  },
  {
   "cell_type": "code",
   "execution_count": 47,
   "id": "c3f4989d-e009-4c00-b665-c1c112afb1e5",
   "metadata": {},
   "outputs": [
    {
     "name": "stdout",
     "output_type": "stream",
     "text": [
      "Index(['id', 'original_title', 'release_date', 'genre_ids', 'popularity',\n",
      "       'vote_average', 'vote_count', 'release_year', 'genres'],\n",
      "      dtype='object')\n",
      "Index(['release_date', 'movie', 'production_budget', 'domestic_gross',\n",
      "       'worldwide_gross', 'release_year'],\n",
      "      dtype='object')\n"
     ]
    }
   ],
   "source": [
    "print(df_tmdb_clean.columns)\n",
    "print(df_tn_clean.columns)\n"
   ]
  },
  {
   "cell_type": "code",
   "execution_count": 13,
   "id": "9530bd6e-884d-40c9-b478-27d5400f164d",
   "metadata": {},
   "outputs": [],
   "source": [
    "# merging the   column name for df_box_clean\n",
    "df_box_clean = df_box_clean.rename(columns={'year': 'release_year'})"
   ]
  },
  {
   "cell_type": "code",
   "execution_count": 49,
   "id": "56dc1497-b390-43e6-bb22-25baf72c829f",
   "metadata": {},
   "outputs": [],
   "source": [
    "df_tn_clean = df_tn_clean.rename(columns={'movie': 'original_title'})\n",
    "\n",
    "df_tmdb_tn = pd.merge(\n",
    "    df_tmdb_clean,\n",
    "    df_tn_clean,\n",
    "    how='inner',\n",
    "    on=['original_title', 'release_year'],\n",
    "    suffixes=('_tmdb', '_tn')\n",
    ")\n"
   ]
  },
  {
   "cell_type": "code",
   "execution_count": 50,
   "id": "527d1847-6a3d-4777-b76b-854345c1f336",
   "metadata": {
    "scrolled": true
   },
   "outputs": [
    {
     "data": {
      "text/plain": [
       "Index(['id', 'original_title', 'release_date_x', 'genre_ids', 'popularity',\n",
       "       'vote_average', 'vote_count', 'release_year', 'genres',\n",
       "       'release_date_y', 'production_budget', 'domestic_gross',\n",
       "       'worldwide_gross'],\n",
       "      dtype='object')"
      ]
     },
     "execution_count": 50,
     "metadata": {},
     "output_type": "execute_result"
    }
   ],
   "source": [
    "# Merge TMDB and The Number\n",
    "df_tmdb_tn = pd.merge(\n",
    "    df_tmdb_clean,\n",
    "    df_tn_clean,\n",
    "    how='inner',\n",
    "    on=['original_title','release_year']\n",
    ")\n",
    "df_tmdb_tn.columns"
   ]
  },
  {
   "cell_type": "code",
   "execution_count": 45,
   "id": "f3bc35e5-f0c1-40b5-b385-2712c30a1c6b",
   "metadata": {},
   "outputs": [],
   "source": [
    "df_tn_clean = df_tn_clean.rename(columns={'old_name': 'title_merge'})\n"
   ]
  },
  {
   "cell_type": "code",
   "execution_count": 51,
   "id": "1955aaa6-0807-4e12-b436-2ab54f40d9f4",
   "metadata": {},
   "outputs": [
    {
     "name": "stdout",
     "output_type": "stream",
     "text": [
      "Index(['id', 'original_title', 'release_date', 'genre_ids', 'popularity',\n",
      "       'vote_average', 'vote_count', 'release_year', 'genres'],\n",
      "      dtype='object')\n",
      "Index(['release_date', 'original_title', 'production_budget', 'domestic_gross',\n",
      "       'worldwide_gross', 'release_year'],\n",
      "      dtype='object')\n",
      "      id            original_title release_date_x            genre_ids  \\\n",
      "0  10191  How to Train Your Dragon     2010-03-26  [14, 12, 16, 10751]   \n",
      "1  10138                Iron Man 2     2010-05-07        [12, 28, 878]   \n",
      "2    862                 Toy Story     1995-11-22      [16, 35, 10751]   \n",
      "3    862                 Toy Story     1995-11-22      [16, 35, 10751]   \n",
      "4  27205                 Inception     2010-07-16        [28, 878, 12]   \n",
      "\n",
      "   popularity  vote_average  vote_count  release_year_x  \\\n",
      "0      28.734           7.7        7610            2010   \n",
      "1      28.515           6.8       12368            2010   \n",
      "2      28.005           7.9       10174            1995   \n",
      "3      28.005           7.9       10174            1995   \n",
      "4      27.920           8.3       22186            2010   \n",
      "\n",
      "                                  genres release_date_y  production_budget  \\\n",
      "0  Fantasy, Adventure, Animation, Family     2010-03-26        165000000.0   \n",
      "1     Adventure, Action, Science Fiction     2010-05-07        170000000.0   \n",
      "2              Animation, Comedy, Family     1995-11-22         30000000.0   \n",
      "3              Animation, Comedy, Family     1995-11-22         30000000.0   \n",
      "4     Action, Science Fiction, Adventure     2010-07-16        160000000.0   \n",
      "\n",
      "   domestic_gross  worldwide_gross  release_year_y  \n",
      "0     217581232.0      494870992.0            2010  \n",
      "1     312433331.0      621156389.0            2010  \n",
      "2     191796233.0      364545516.0            1995  \n",
      "3     191796233.0      364545516.0            1995  \n",
      "4     292576195.0      835524642.0            2010  \n"
     ]
    }
   ],
   "source": [
    "# inspect\n",
    "print(df_tmdb_clean.columns)\n",
    "print(df_tn_clean.columns)\n",
    "\n",
    "# clean column headers\n",
    "df_tmdb_clean.columns = df_tmdb_clean.columns.str.strip()\n",
    "df_tn_clean.columns   = df_tn_clean.columns.str.strip()\n",
    "\n",
    "# merge\n",
    "df_tmdb_tn = pd.merge(\n",
    "    df_tmdb_clean,\n",
    "    df_tn_clean,\n",
    "    on='original_title',\n",
    "    how='inner'\n",
    ")\n",
    "print(df_tmdb_tn.head())\n"
   ]
  },
  {
   "cell_type": "code",
   "execution_count": 60,
   "id": "bba8d8d5-82c3-41a9-b74d-dbbabf51d15f",
   "metadata": {},
   "outputs": [
    {
     "name": "stdout",
     "output_type": "stream",
     "text": [
      "Index(['id', 'original_title', 'release_date', 'genre_ids', 'popularity',\n",
      "       'vote_average', 'vote_count', 'release_year', 'genres'],\n",
      "      dtype='object')\n",
      "Index(['title', 'studio', 'domestic_gross', 'foreign_gross', 'year',\n",
      "       'worldwide_gross'],\n",
      "      dtype='object')\n"
     ]
    }
   ],
   "source": [
    "print(df_tmdb_clean.columns)\n",
    "print(df_box_clean.columns)\n"
   ]
  },
  {
   "cell_type": "code",
   "execution_count": 68,
   "id": "c56a4432-be38-4e87-b420-714fae51a1ea",
   "metadata": {},
   "outputs": [],
   "source": [
    "df_tmdb_clean['release_year'] = df_tmdb_clean['release_year'].astype('Int64')\n",
    "df_box_clean['release_year'] = df_box_clean['release_year'].astype('Int64')\n"
   ]
  },
  {
   "cell_type": "code",
   "execution_count": 69,
   "id": "0d682a7d-cbed-414e-9f20-9fa40e04cdf9",
   "metadata": {},
   "outputs": [],
   "source": [
    "df_box_clean = df_box_clean.rename(columns={'title': 'original_title'})\n"
   ]
  },
  {
   "cell_type": "code",
   "execution_count": 70,
   "id": "62ca9c16-6e5b-47a2-b641-403118ff0f5c",
   "metadata": {},
   "outputs": [],
   "source": [
    "# Merge the result with Box Office Mojo\n",
    "df_box_clean = df_box_clean.rename(columns={'title': 'original_title', 'year': 'release_year'})\n",
    "\n",
    "df_merged = pd.merge(\n",
    "    df_tmdb_clean,\n",
    "    df_box_clean,\n",
    "    how='inner',\n",
    "    on=['original_title', 'release_year'],\n",
    "    suffixes=('_tmdb', '_box')\n",
    ")\n"
   ]
  },
  {
   "cell_type": "markdown",
   "id": "6cddd9f5-4941-4e49-b69a-d5fe572c3795",
   "metadata": {},
   "source": [
    "## *DATA ANALYSIS*"
   ]
  },
  {
   "cell_type": "markdown",
   "id": "13a71d65-1578-4f17-9a4a-8a2221178179",
   "metadata": {},
   "source": [
    "#### 1.Analysing the return of investment by the production budget.\n",
    " The aim of this objective is to determine which production budget category yields more relative profitability.Here the  ROI is defined and then plotted against the \n"
   ]
  },
  {
   "cell_type": "code",
   "execution_count": 112,
   "id": "6fc92e1b-02e9-4c49-8afd-495c21b8bddc",
   "metadata": {},
   "outputs": [
    {
     "name": "stdout",
     "output_type": "stream",
     "text": [
      "Merged columns: ['id', 'original_title', 'release_date', 'genre_ids', 'popularity', 'vote_average', 'vote_count', 'release_year', 'genres', 'studio', 'domestic_gross', 'foreign_gross', 'worldwide_gross']\n",
      "  budget_category  n_movies       avg_roi    median_roi\n",
      "0          < $10M      1985  55034.810571  12443.224095\n",
      "1       $10M–$50M         0          <NA>          <NA>\n",
      "2      $50M–$100M         0          <NA>          <NA>\n",
      "3     $100M–$200M         0          <NA>          <NA>\n",
      "4     $200M–$500M         0          <NA>          <NA>\n",
      "5          $500M+         0          <NA>          <NA>\n"
     ]
    },
    {
     "name": "stderr",
     "output_type": "stream",
     "text": [
      "C:\\Users\\HP\\AppData\\Local\\Temp\\ipykernel_3972\\2254409603.py:63: FutureWarning: The default of observed=False is deprecated and will be changed to True in a future version of pandas. Pass observed=False to retain current behavior or observed=True to adopt the future default and silence this warning.\n",
      "  .groupby('budget_category')['roi']\n",
      "C:\\Users\\HP\\GRAPHISOFT\\Publisher log files\\Lib\\site-packages\\seaborn\\categorical.py:641: FutureWarning: The default of observed=False is deprecated and will be changed to True in a future version of pandas. Pass observed=False to retain current behavior or observed=True to adopt the future default and silence this warning.\n",
      "  grouped_vals = vals.groupby(grouper)\n"
     ]
    },
    {
     "data": {
      "image/png": "[encoded data removed]",
      "text/plain": [
       "<Figure size 1200x700 with 1 Axes>"
      ]
     },
     "metadata": {},
     "output_type": "display_data"
    }
   ],
   "source": [
    "import pandas as pd\n",
    "\n",
    "# Rename and clean\n",
    "df_box_clean = df_box_clean.rename(columns={'title': 'original_title', 'year': 'release_year'})\n",
    "df_tmdb_clean['original_title'] = df_tmdb_clean['original_title'].str.strip()\n",
    "df_box_clean['original_title'] = df_box_clean['original_title'].str.strip()\n",
    "\n",
    "df_tmdb_clean['release_year'] = pd.to_numeric(df_tmdb_clean['release_year'], errors='coerce').astype('Int64')\n",
    "df_box_clean['release_year'] = pd.to_numeric(df_box_clean['release_year'], errors='coerce').astype('Int64')\n",
    "\n",
    "df_box_clean['worldwide_gross'] = pd.to_numeric(\n",
    "    df_box_clean['worldwide_gross'].replace(r'[\\$,]', '', regex=True),\n",
    "    errors='coerce'\n",
    ")\n",
    "\n",
    "if 'production_budget' in df_box_clean:\n",
    "    df_box_clean['production_budget'] = pd.to_numeric(\n",
    "        df_box_clean['production_budget'].replace(r'[\\$,]', '', regex=True),\n",
    "        errors='coerce'\n",
    "    )\n",
    "\n",
    "# Compute ROI rati0\n",
    "df['roi'] = (df[gross_col] - df[budget_col]) / df[budget_col]\n",
    "\n",
    "# === Step 6: Define budget categories ===\n",
    "budget_bins = [0, 10_000_000, 50_000_000, 100_000_000, 200_000_000, 500_000_000, float('inf')]\n",
    "budget_labels = ['< $10M', '$10M–$50M', '$50M–$100M', '$100M–$200M', '$200M–$500M', '$500M+']\n",
    "\n",
    "df['budget_category'] = pd.cut(\n",
    "    df[budget_col],\n",
    "    bins=budget_bins,\n",
    "    labels=budget_labels,\n",
    "    include_lowest=True\n",
    ")\n",
    "\n",
    "#Summarize average ROI & counts \n",
    "budget_summary = (\n",
    "    df\n",
    "    .groupby('budget_category')['roi']\n",
    "    .agg(n_movies='count', avg_roi='mean', median_roi='median')\n",
    "    .reset_index()\n",
    ")\n",
    "print(budget_summary)\n",
    "\n",
    "plt.figure(figsize=(12, 7))\n",
    "sns.boxplot(x='budget_category', y='roi', data=df, showfliers=False, palette='muted')\n",
    "plt.xticks(rotation=45)\n",
    "plt.ylabel('ROI (ratio)')\n",
    "plt.xlabel('Budget Category')\n",
    "plt.title('ROI Distribution by Budget Category')\n",
    "plt.tight_layout()\n",
    "plt.show()\n"
   ]
  },
  {
   "cell_type": "markdown",
   "id": "50958991-2d1d-46c0-b9b7-c73c3a2990c2",
   "metadata": {},
   "source": [
    "The  above vizualization of ** ROI against  Budget category**  shows that:\n",
    " -The ** \"< $10M\"** budget category had the ** highest relative profitability "
   ]
  },
  {
   "cell_type": "markdown",
   "id": "772cdb27-968d-4af7-b5b4-e0cb800a7f89",
   "metadata": {},
   "source": [
    "### 2. Analysing the top performing studios in terms of ROI and revenue "
   ]
  },
  {
   "cell_type": "code",
   "execution_count": null,
   "id": "0c2efa51-b838-44a4-b40f-1da18521baf0",
   "metadata": {},
   "outputs": [],
   "source": [
    "studio_performance = df_merged.groupby('studio').agg({\n",
    "    'roi': 'mean',\n",
    "    'worldwide_gross_y': 'mean',\n",
    "    'original_title': 'count'\n",
    "}).rename(columns={'original_title': 'film_count'}).sort_values(by='roi', ascending=False)\n",
    "\n",
    "print(studio_performance.head(10))"
   ]
  },
  {
   "cell_type": "code",
   "execution_count": 115,
   "id": "3b6857e7-11e7-4d1e-b88a-3d4d30178974",
   "metadata": {},
   "outputs": [],
   "source": [
    "import pandas as pd\n",
    "import seaborn as sns\n",
    "import matplotlib.pyplot as plt\n",
    "\n",
    "# Ensure 'studio' column is clean (no NaN, uniform formatting)\n",
    "df['studio'] = df['studio'].fillna('Unknown').str.strip()\n",
    "\n",
    "# Group by studio to compute average ROI\n",
    "studio_performance = (\n",
    "    df.groupby('studio')['roi']\n",
    "      .agg(avg_roi='mean', count='count')\n",
    "      .reset_index()\n",
    "      .sort_values(by='avg_roi', ascending=False)\n",
    ")\n",
    "\n",
    "# Select top studios with sufficient data points\n",
    "top_studios = studio_performance[studio_performance['count'] >= 5].head(10)\n"
   ]
  },
  {
   "cell_type": "code",
   "execution_count": 117,
   "id": "2d4e7f21-3aea-4cdd-9c14-3c24217d7eb7",
   "metadata": {},
   "outputs": [
    {
     "data": {
      "image/png": "[encoded data removed]",
      "text/plain": [
       "<Figure size 1200x600 with 1 Axes>"
      ]
     },
     "metadata": {},
     "output_type": "display_data"
    }
   ],
   "source": [
    "plt.figure(figsize=(12, 6))\n",
    "sns.barplot(\n",
    "    data=top_studios,\n",
    "    x='avg_roi',\n",
    "    y='studio',\n",
    "    palette='rocket'\n",
    ")\n",
    "plt.xlabel('Average ROI (ratio)')\n",
    "plt.ylabel('Studio')\n",
    "plt.title('Top 10 Studios by Average ROI (min 5 movies)')\n",
    "plt.xlim(0, top_studios['avg_roi'].max() * 1.1)\n",
    "plt.tight_layout()\n",
    "plt.show()\n"
   ]
  },
  {
   "cell_type": "markdown",
   "id": "3bd18248-ae0a-4120-a698-e4ef9b3a9642",
   "metadata": {},
   "source": [
    "This bar graph shows the that the P/DW  studio has the highest avarage revenue"
   ]
  },
  {
   "cell_type": "markdown",
   "id": "d95bb93f-c3d7-4d31-a55d-bab633d54be4",
   "metadata": {},
   "source": [
    " ### 3. Analysing the Best Performing Genres by ROI and Revenue"
   ]
  },
  {
   "cell_type": "code",
   "execution_count": 121,
   "id": "bc79bd69-c055-4398-a5c0-ef286f351571",
   "metadata": {},
   "outputs": [],
   "source": [
    "df_genres = (\n",
    "    df.copy()\n",
    "      .assign(genres = df['genres'].fillna('Unknown').str.split(', '))\n",
    "      .explode('genres')\n",
    ")\n"
   ]
  },
  {
   "cell_type": "code",
   "execution_count": 130,
   "id": "45695ded-6246-4cdb-9255-78670e742ab4",
   "metadata": {},
   "outputs": [],
   "source": [
    "# Ensure 'roi' and 'worldwide_gross' are numeric\n",
    "df_genres['studio'] = pd.to_numeric(df_genres['studio'], errors='coerce')\n",
    "df_genres['worldwide_gross'] = pd.to_numeric(df_genres['worldwide_gross'], errors='coerce')\n"
   ]
  },
  {
   "cell_type": "code",
   "execution_count": 136,
   "id": "bb289506-8f3a-4930-b8f0-b389e2cdbab3",
   "metadata": {
    "scrolled": true
   },
   "outputs": [
    {
     "name": "stdout",
     "output_type": "stream",
     "text": [
      "            genres       avg_roi   avg_revenue  film_count\n",
      "0        Adventure  1.369376e+08  3.689921e+08         300\n",
      "1        Animation  1.248312e+08  3.510493e+08         117\n",
      "2          Fantasy  1.220694e+08  3.145268e+08         163\n",
      "3  Science Fiction  1.214288e+08  3.025960e+08         187\n",
      "4           Family  1.036743e+08  2.818707e+08         175\n",
      "5           Action  9.984052e+07  2.581610e+08         410\n",
      "6              War  5.158894e+07  1.032443e+08          52\n",
      "7          Western  5.144416e+07  1.187562e+08          26\n",
      "8           Comedy  4.975589e+07  1.163299e+08         651\n",
      "9            Crime  3.805539e+07  8.391606e+07         235\n"
     ]
    }
   ],
   "source": [
    "genre_performance = (\n",
    "    df_genres\n",
    "      .groupby('genres')\n",
    "      .agg(\n",
    "          avg_roi=('domestic_gross', 'mean'),\n",
    "          avg_revenue=('worldwide_gross', 'mean'),\n",
    "          film_count=('id', 'count')\n",
    "      )\n",
    "      .sort_values(by='avg_roi', ascending=False)\n",
    ")\n",
    "top10 = genre_performance.head(10).reset_index()\n",
    "print(top10)\n"
   ]
  },
  {
   "cell_type": "code",
   "execution_count": 137,
   "id": "d0520ae3-7897-475a-8bcc-a043640950a8",
   "metadata": {},
   "outputs": [
    {
     "data": {
      "image/png": "[encoded data removed]",
      "text/plain": [
       "<Figure size 1000x600 with 1 Axes>"
      ]
     },
     "metadata": {},
     "output_type": "display_data"
    }
   ],
   "source": [
    "import seaborn as sns\n",
    "import matplotlib.pyplot as plt\n",
    "\n",
    "plt.figure(figsize=(10, 6))\n",
    "sns.barplot(data=top10, x='avg_roi', y='genres', palette='viridis')\n",
    "plt.xlabel('Average ROI (ratio)')\n",
    "plt.ylabel('Genre')\n",
    "plt.title('Top 10 Genres by Avg ROI')\n",
    "plt.xlim(0, top10['avg_roi'].max() * 1.1)\n",
    "plt.tight_layout()\n",
    "plt.show()\n"
   ]
  },
  {
   "cell_type": "code",
   "execution_count": 124,
   "id": "c4b4e05b-adad-4886-bcb7-c33296adfeaa",
   "metadata": {},
   "outputs": [
    {
     "name": "stdout",
     "output_type": "stream",
     "text": [
      "['id', 'original_title', 'release_date', 'genre_ids', 'popularity', 'vote_average', 'vote_count', 'release_year', 'genres', 'studio', 'domestic_gross', 'foreign_gross', 'worldwide_gross']\n"
     ]
    }
   ],
   "source": [
    "print(df_genres.columns.tolist())\n"
   ]
  },
  {
   "cell_type": "markdown",
   "id": "54f169bc-2252-4f18-92bc-707dae346c51",
   "metadata": {},
   "source": [
    "This graph suggests that horror films are often low-budget but highly profitable."
   ]
  },
  {
   "cell_type": "code",
   "execution_count": null,
   "id": "5e6f3b10-7f67-4941-8373-825dac9ddfb1",
   "metadata": {},
   "outputs": [],
   "source": []
  }
 ],
 "metadata": {
  "kernelspec": {
   "display_name": "Python 3 (ipykernel)",
   "language": "python",
   "name": "python3"
  },
  "language_info": {
   "codemirror_mode": {
    "name": "ipython",
    "version": 3
   },
   "file_extension": ".py",
   "mimetype": "text/x-python",
   "name": "python",
   "nbconvert_exporter": "python",
   "pygments_lexer": "ipython3",
   "version": "3.11.7"
  }
 },
 "nbformat": 4,
 "nbformat_minor": 5
}
